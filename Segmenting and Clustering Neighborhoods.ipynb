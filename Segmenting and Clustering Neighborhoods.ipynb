{
    "cells": [
        {
            "metadata": {},
            "cell_type": "markdown",
            "source": "# Coursera Capstone for IBM Data Science\n\n### Segmenting and Clustering Neighborhoods in Toronto\n\n"
        },
        {
            "metadata": {},
            "cell_type": "code",
            "source": "import numpy as np \nimport pandas as pd \nfrom bs4 import BeautifulSoup\nimport requests",
            "execution_count": 1,
            "outputs": []
        },
        {
            "metadata": {},
            "cell_type": "code",
            "source": "source = requests.get('https://en.wikipedia.org/wiki/List_of_postal_codes_of_Canada:_M').text\nsoup = BeautifulSoup(source, 'lxml')",
            "execution_count": 2,
            "outputs": []
        },
        {
            "metadata": {},
            "cell_type": "code",
            "source": "class Scrapy:\n       \n        def parse_url(self, url):\n            response = requests.get(url)\n            soup = BeautifulSoup(response.text, 'lxml')\n            return [(self.parse_html_table(table))\\\n                    for table in soup.find_all('table', class_=\"wikitable sortable\")]  \n    \n        def parse_html_table(self, table):\n            n_columns = 0\n            n_rows=0\n            column_names = []\n            for row in table.find_all('tr'):\n                td_tags = row.find_all('td')\n                if len(td_tags) > 0:\n                    n_rows+=1\n                    if n_columns == 0:\n                        n_columns = len(td_tags)\n                        \n                th_tags = row.find_all('th') \n                if len(th_tags) > 0 and len(column_names) == 0:\n                    for th in th_tags:\n                        column_names.append(th.get_text())\n    \n            if len(column_names) > 0 and len(column_names) != n_columns:\n                raise Exception(\"Column titles do not match the number of columns\")\n    \n            columns = column_names if len(column_names) > 0 else range(0,n_columns)\n            df = pd.DataFrame(columns = columns,\n                              index= range(0,n_rows))\n            row_marker = 0\n            for row in table.find_all('tr'):\n                column_marker = 0\n                columns = row.find_all('td')\n                for column in columns:\n                    df.iat[row_marker,column_marker] = column.get_text()\n                    column_marker += 1\n                if len(columns) > 0:\n                    row_marker += 1\n                    \n            for col in df:\n                try:\n                    df[col] = df[col].astype(float)\n                except ValueError:\n                    pass\n            \n            return df",
            "execution_count": 3,
            "outputs": []
        },
        {
            "metadata": {},
            "cell_type": "code",
            "source": "url = 'https://en.wikipedia.org/wiki/List_of_postal_codes_of_Canada:_M'\nhp = Scrapy()\ntable = hp.parse_url(url)[0] \ntable.head(10)",
            "execution_count": 4,
            "outputs": [
                {
                    "output_type": "execute_result",
                    "execution_count": 4,
                    "data": {
                        "text/plain": "  Postcode           Borough     Neighbourhood\\n\n0      M1A      Not assigned      Not assigned\\n\n1      M2A      Not assigned      Not assigned\\n\n2      M3A        North York         Parkwoods\\n\n3      M4A        North York  Victoria Village\\n\n4      M5A  Downtown Toronto      Harbourfront\\n\n5      M5A  Downtown Toronto       Regent Park\\n\n6      M6A        North York  Lawrence Heights\\n\n7      M6A        North York    Lawrence Manor\\n\n8      M7A      Queen's Park      Not assigned\\n\n9      M8A      Not assigned      Not assigned\\n",
                        "text/html": "<div>\n<style scoped>\n    .dataframe tbody tr th:only-of-type {\n        vertical-align: middle;\n    }\n\n    .dataframe tbody tr th {\n        vertical-align: top;\n    }\n\n    .dataframe thead th {\n        text-align: right;\n    }\n</style>\n<table border=\"1\" class=\"dataframe\">\n  <thead>\n    <tr style=\"text-align: right;\">\n      <th></th>\n      <th>Postcode</th>\n      <th>Borough</th>\n      <th>Neighbourhood</th>\n    </tr>\n  </thead>\n  <tbody>\n    <tr>\n      <th>0</th>\n      <td>M1A</td>\n      <td>Not assigned</td>\n      <td>Not assigned\\n</td>\n    </tr>\n    <tr>\n      <th>1</th>\n      <td>M2A</td>\n      <td>Not assigned</td>\n      <td>Not assigned\\n</td>\n    </tr>\n    <tr>\n      <th>2</th>\n      <td>M3A</td>\n      <td>North York</td>\n      <td>Parkwoods\\n</td>\n    </tr>\n    <tr>\n      <th>3</th>\n      <td>M4A</td>\n      <td>North York</td>\n      <td>Victoria Village\\n</td>\n    </tr>\n    <tr>\n      <th>4</th>\n      <td>M5A</td>\n      <td>Downtown Toronto</td>\n      <td>Harbourfront\\n</td>\n    </tr>\n    <tr>\n      <th>5</th>\n      <td>M5A</td>\n      <td>Downtown Toronto</td>\n      <td>Regent Park\\n</td>\n    </tr>\n    <tr>\n      <th>6</th>\n      <td>M6A</td>\n      <td>North York</td>\n      <td>Lawrence Heights\\n</td>\n    </tr>\n    <tr>\n      <th>7</th>\n      <td>M6A</td>\n      <td>North York</td>\n      <td>Lawrence Manor\\n</td>\n    </tr>\n    <tr>\n      <th>8</th>\n      <td>M7A</td>\n      <td>Queen's Park</td>\n      <td>Not assigned\\n</td>\n    </tr>\n    <tr>\n      <th>9</th>\n      <td>M8A</td>\n      <td>Not assigned</td>\n      <td>Not assigned\\n</td>\n    </tr>\n  </tbody>\n</table>\n</div>"
                    },
                    "metadata": {}
                }
            ]
        },
        {
            "metadata": {},
            "cell_type": "markdown",
            "source": "#### Remove \"not assigned\""
        },
        {
            "metadata": {},
            "cell_type": "code",
            "source": "table = table[table.Borough != 'Not assigned']\ntable.head(10)",
            "execution_count": 5,
            "outputs": [
                {
                    "output_type": "execute_result",
                    "execution_count": 5,
                    "data": {
                        "text/plain": "   Postcode           Borough     Neighbourhood\\n\n2       M3A        North York         Parkwoods\\n\n3       M4A        North York  Victoria Village\\n\n4       M5A  Downtown Toronto      Harbourfront\\n\n5       M5A  Downtown Toronto       Regent Park\\n\n6       M6A        North York  Lawrence Heights\\n\n7       M6A        North York    Lawrence Manor\\n\n8       M7A      Queen's Park      Not assigned\\n\n10      M9A         Etobicoke  Islington Avenue\\n\n11      M1B       Scarborough             Rouge\\n\n12      M1B       Scarborough           Malvern\\n",
                        "text/html": "<div>\n<style scoped>\n    .dataframe tbody tr th:only-of-type {\n        vertical-align: middle;\n    }\n\n    .dataframe tbody tr th {\n        vertical-align: top;\n    }\n\n    .dataframe thead th {\n        text-align: right;\n    }\n</style>\n<table border=\"1\" class=\"dataframe\">\n  <thead>\n    <tr style=\"text-align: right;\">\n      <th></th>\n      <th>Postcode</th>\n      <th>Borough</th>\n      <th>Neighbourhood</th>\n    </tr>\n  </thead>\n  <tbody>\n    <tr>\n      <th>2</th>\n      <td>M3A</td>\n      <td>North York</td>\n      <td>Parkwoods\\n</td>\n    </tr>\n    <tr>\n      <th>3</th>\n      <td>M4A</td>\n      <td>North York</td>\n      <td>Victoria Village\\n</td>\n    </tr>\n    <tr>\n      <th>4</th>\n      <td>M5A</td>\n      <td>Downtown Toronto</td>\n      <td>Harbourfront\\n</td>\n    </tr>\n    <tr>\n      <th>5</th>\n      <td>M5A</td>\n      <td>Downtown Toronto</td>\n      <td>Regent Park\\n</td>\n    </tr>\n    <tr>\n      <th>6</th>\n      <td>M6A</td>\n      <td>North York</td>\n      <td>Lawrence Heights\\n</td>\n    </tr>\n    <tr>\n      <th>7</th>\n      <td>M6A</td>\n      <td>North York</td>\n      <td>Lawrence Manor\\n</td>\n    </tr>\n    <tr>\n      <th>8</th>\n      <td>M7A</td>\n      <td>Queen's Park</td>\n      <td>Not assigned\\n</td>\n    </tr>\n    <tr>\n      <th>10</th>\n      <td>M9A</td>\n      <td>Etobicoke</td>\n      <td>Islington Avenue\\n</td>\n    </tr>\n    <tr>\n      <th>11</th>\n      <td>M1B</td>\n      <td>Scarborough</td>\n      <td>Rouge\\n</td>\n    </tr>\n    <tr>\n      <th>12</th>\n      <td>M1B</td>\n      <td>Scarborough</td>\n      <td>Malvern\\n</td>\n    </tr>\n  </tbody>\n</table>\n</div>"
                    },
                    "metadata": {}
                }
            ]
        },
        {
            "metadata": {},
            "cell_type": "markdown",
            "source": "### Clean up the data"
        },
        {
            "metadata": {},
            "cell_type": "code",
            "source": "print(list(table))\ntable = table.replace('\\n',' ', regex=True)\ntable.head(10)",
            "execution_count": 6,
            "outputs": [
                {
                    "output_type": "stream",
                    "text": "['Postcode', 'Borough', 'Neighbourhood\\n']\n",
                    "name": "stdout"
                },
                {
                    "output_type": "execute_result",
                    "execution_count": 6,
                    "data": {
                        "text/plain": "   Postcode           Borough    Neighbourhood\\n\n2       M3A        North York         Parkwoods \n3       M4A        North York  Victoria Village \n4       M5A  Downtown Toronto      Harbourfront \n5       M5A  Downtown Toronto       Regent Park \n6       M6A        North York  Lawrence Heights \n7       M6A        North York    Lawrence Manor \n8       M7A      Queen's Park      Not assigned \n10      M9A         Etobicoke  Islington Avenue \n11      M1B       Scarborough             Rouge \n12      M1B       Scarborough           Malvern ",
                        "text/html": "<div>\n<style scoped>\n    .dataframe tbody tr th:only-of-type {\n        vertical-align: middle;\n    }\n\n    .dataframe tbody tr th {\n        vertical-align: top;\n    }\n\n    .dataframe thead th {\n        text-align: right;\n    }\n</style>\n<table border=\"1\" class=\"dataframe\">\n  <thead>\n    <tr style=\"text-align: right;\">\n      <th></th>\n      <th>Postcode</th>\n      <th>Borough</th>\n      <th>Neighbourhood</th>\n    </tr>\n  </thead>\n  <tbody>\n    <tr>\n      <th>2</th>\n      <td>M3A</td>\n      <td>North York</td>\n      <td>Parkwoods</td>\n    </tr>\n    <tr>\n      <th>3</th>\n      <td>M4A</td>\n      <td>North York</td>\n      <td>Victoria Village</td>\n    </tr>\n    <tr>\n      <th>4</th>\n      <td>M5A</td>\n      <td>Downtown Toronto</td>\n      <td>Harbourfront</td>\n    </tr>\n    <tr>\n      <th>5</th>\n      <td>M5A</td>\n      <td>Downtown Toronto</td>\n      <td>Regent Park</td>\n    </tr>\n    <tr>\n      <th>6</th>\n      <td>M6A</td>\n      <td>North York</td>\n      <td>Lawrence Heights</td>\n    </tr>\n    <tr>\n      <th>7</th>\n      <td>M6A</td>\n      <td>North York</td>\n      <td>Lawrence Manor</td>\n    </tr>\n    <tr>\n      <th>8</th>\n      <td>M7A</td>\n      <td>Queen's Park</td>\n      <td>Not assigned</td>\n    </tr>\n    <tr>\n      <th>10</th>\n      <td>M9A</td>\n      <td>Etobicoke</td>\n      <td>Islington Avenue</td>\n    </tr>\n    <tr>\n      <th>11</th>\n      <td>M1B</td>\n      <td>Scarborough</td>\n      <td>Rouge</td>\n    </tr>\n    <tr>\n      <th>12</th>\n      <td>M1B</td>\n      <td>Scarborough</td>\n      <td>Malvern</td>\n    </tr>\n  </tbody>\n</table>\n</div>"
                    },
                    "metadata": {}
                }
            ]
        },
        {
            "metadata": {},
            "cell_type": "code",
            "source": "table = table[table['Neighbourhood\\n'] != 'Not assigned']\ntable.head(10)",
            "execution_count": 7,
            "outputs": [
                {
                    "output_type": "execute_result",
                    "execution_count": 7,
                    "data": {
                        "text/plain": "   Postcode           Borough    Neighbourhood\\n\n2       M3A        North York         Parkwoods \n3       M4A        North York  Victoria Village \n4       M5A  Downtown Toronto      Harbourfront \n5       M5A  Downtown Toronto       Regent Park \n6       M6A        North York  Lawrence Heights \n7       M6A        North York    Lawrence Manor \n8       M7A      Queen's Park      Not assigned \n10      M9A         Etobicoke  Islington Avenue \n11      M1B       Scarborough             Rouge \n12      M1B       Scarborough           Malvern ",
                        "text/html": "<div>\n<style scoped>\n    .dataframe tbody tr th:only-of-type {\n        vertical-align: middle;\n    }\n\n    .dataframe tbody tr th {\n        vertical-align: top;\n    }\n\n    .dataframe thead th {\n        text-align: right;\n    }\n</style>\n<table border=\"1\" class=\"dataframe\">\n  <thead>\n    <tr style=\"text-align: right;\">\n      <th></th>\n      <th>Postcode</th>\n      <th>Borough</th>\n      <th>Neighbourhood</th>\n    </tr>\n  </thead>\n  <tbody>\n    <tr>\n      <th>2</th>\n      <td>M3A</td>\n      <td>North York</td>\n      <td>Parkwoods</td>\n    </tr>\n    <tr>\n      <th>3</th>\n      <td>M4A</td>\n      <td>North York</td>\n      <td>Victoria Village</td>\n    </tr>\n    <tr>\n      <th>4</th>\n      <td>M5A</td>\n      <td>Downtown Toronto</td>\n      <td>Harbourfront</td>\n    </tr>\n    <tr>\n      <th>5</th>\n      <td>M5A</td>\n      <td>Downtown Toronto</td>\n      <td>Regent Park</td>\n    </tr>\n    <tr>\n      <th>6</th>\n      <td>M6A</td>\n      <td>North York</td>\n      <td>Lawrence Heights</td>\n    </tr>\n    <tr>\n      <th>7</th>\n      <td>M6A</td>\n      <td>North York</td>\n      <td>Lawrence Manor</td>\n    </tr>\n    <tr>\n      <th>8</th>\n      <td>M7A</td>\n      <td>Queen's Park</td>\n      <td>Not assigned</td>\n    </tr>\n    <tr>\n      <th>10</th>\n      <td>M9A</td>\n      <td>Etobicoke</td>\n      <td>Islington Avenue</td>\n    </tr>\n    <tr>\n      <th>11</th>\n      <td>M1B</td>\n      <td>Scarborough</td>\n      <td>Rouge</td>\n    </tr>\n    <tr>\n      <th>12</th>\n      <td>M1B</td>\n      <td>Scarborough</td>\n      <td>Malvern</td>\n    </tr>\n  </tbody>\n</table>\n</div>"
                    },
                    "metadata": {}
                }
            ]
        },
        {
            "metadata": {},
            "cell_type": "markdown",
            "source": "### Group by neighbourhood postal codes"
        },
        {
            "metadata": {},
            "cell_type": "code",
            "source": "df = table.groupby(['Postcode','Borough'])['Neighbourhood\\n'].apply(lambda x: ', '.join(x.astype(str))).reset_index()\ndf = df.sample(frac=1).reset_index(drop=True)\ndf.head(10)",
            "execution_count": 11,
            "outputs": [
                {
                    "output_type": "execute_result",
                    "execution_count": 11,
                    "data": {
                        "text/plain": "  Postcode           Borough  \\\n0      M2H        North York   \n1      M2N        North York   \n2      M1B       Scarborough   \n3      M3J        North York   \n4      M5S  Downtown Toronto   \n5      M9B         Etobicoke   \n6      M4C         East York   \n7      M2M        North York   \n8      M8W         Etobicoke   \n9      M4M      East Toronto   \n\n                                     Neighbourhood\\n  \n0                                 Hillcrest Village   \n1                                  Willowdale South   \n2                                   Rouge , Malvern   \n3                  Northwood Park , York University   \n4                   Harbord , University of Toronto   \n5  Cloverdale , Islington , Martin Grove , Prince...  \n6                                  Woodbine Heights   \n7                          Newtonbrook , Willowdale   \n8                           Alderwood , Long Branch   \n9                                   Studio District   ",
                        "text/html": "<div>\n<style scoped>\n    .dataframe tbody tr th:only-of-type {\n        vertical-align: middle;\n    }\n\n    .dataframe tbody tr th {\n        vertical-align: top;\n    }\n\n    .dataframe thead th {\n        text-align: right;\n    }\n</style>\n<table border=\"1\" class=\"dataframe\">\n  <thead>\n    <tr style=\"text-align: right;\">\n      <th></th>\n      <th>Postcode</th>\n      <th>Borough</th>\n      <th>Neighbourhood</th>\n    </tr>\n  </thead>\n  <tbody>\n    <tr>\n      <th>0</th>\n      <td>M2H</td>\n      <td>North York</td>\n      <td>Hillcrest Village</td>\n    </tr>\n    <tr>\n      <th>1</th>\n      <td>M2N</td>\n      <td>North York</td>\n      <td>Willowdale South</td>\n    </tr>\n    <tr>\n      <th>2</th>\n      <td>M1B</td>\n      <td>Scarborough</td>\n      <td>Rouge , Malvern</td>\n    </tr>\n    <tr>\n      <th>3</th>\n      <td>M3J</td>\n      <td>North York</td>\n      <td>Northwood Park , York University</td>\n    </tr>\n    <tr>\n      <th>4</th>\n      <td>M5S</td>\n      <td>Downtown Toronto</td>\n      <td>Harbord , University of Toronto</td>\n    </tr>\n    <tr>\n      <th>5</th>\n      <td>M9B</td>\n      <td>Etobicoke</td>\n      <td>Cloverdale , Islington , Martin Grove , Prince...</td>\n    </tr>\n    <tr>\n      <th>6</th>\n      <td>M4C</td>\n      <td>East York</td>\n      <td>Woodbine Heights</td>\n    </tr>\n    <tr>\n      <th>7</th>\n      <td>M2M</td>\n      <td>North York</td>\n      <td>Newtonbrook , Willowdale</td>\n    </tr>\n    <tr>\n      <th>8</th>\n      <td>M8W</td>\n      <td>Etobicoke</td>\n      <td>Alderwood , Long Branch</td>\n    </tr>\n    <tr>\n      <th>9</th>\n      <td>M4M</td>\n      <td>East Toronto</td>\n      <td>Studio District</td>\n    </tr>\n  </tbody>\n</table>\n</div>"
                    },
                    "metadata": {}
                }
            ]
        },
        {
            "metadata": {},
            "cell_type": "code",
            "source": "print(df.shape)",
            "execution_count": 12,
            "outputs": [
                {
                    "output_type": "stream",
                    "text": "(103, 3)\n",
                    "name": "stdout"
                }
            ]
        },
        {
            "metadata": {},
            "cell_type": "markdown",
            "source": "# END OF PART 1 OF THE ASSIGNMENT"
        },
        {
            "metadata": {},
            "cell_type": "code",
            "source": "",
            "execution_count": null,
            "outputs": []
        },
        {
            "metadata": {},
            "cell_type": "markdown",
            "source": "## PART 2: Geocoding the data"
        },
        {
            "metadata": {},
            "cell_type": "code",
            "source": "url2=\"http://cocl.us/Geospatial_data\"\ngeo_data=pd.read_csv(url2)\ngeo_data.head(10)",
            "execution_count": 13,
            "outputs": [
                {
                    "output_type": "execute_result",
                    "execution_count": 13,
                    "data": {
                        "text/plain": "  Postal Code   Latitude  Longitude\n0         M1B  43.806686 -79.194353\n1         M1C  43.784535 -79.160497\n2         M1E  43.763573 -79.188711\n3         M1G  43.770992 -79.216917\n4         M1H  43.773136 -79.239476\n5         M1J  43.744734 -79.239476\n6         M1K  43.727929 -79.262029\n7         M1L  43.711112 -79.284577\n8         M1M  43.716316 -79.239476\n9         M1N  43.692657 -79.264848",
                        "text/html": "<div>\n<style scoped>\n    .dataframe tbody tr th:only-of-type {\n        vertical-align: middle;\n    }\n\n    .dataframe tbody tr th {\n        vertical-align: top;\n    }\n\n    .dataframe thead th {\n        text-align: right;\n    }\n</style>\n<table border=\"1\" class=\"dataframe\">\n  <thead>\n    <tr style=\"text-align: right;\">\n      <th></th>\n      <th>Postal Code</th>\n      <th>Latitude</th>\n      <th>Longitude</th>\n    </tr>\n  </thead>\n  <tbody>\n    <tr>\n      <th>0</th>\n      <td>M1B</td>\n      <td>43.806686</td>\n      <td>-79.194353</td>\n    </tr>\n    <tr>\n      <th>1</th>\n      <td>M1C</td>\n      <td>43.784535</td>\n      <td>-79.160497</td>\n    </tr>\n    <tr>\n      <th>2</th>\n      <td>M1E</td>\n      <td>43.763573</td>\n      <td>-79.188711</td>\n    </tr>\n    <tr>\n      <th>3</th>\n      <td>M1G</td>\n      <td>43.770992</td>\n      <td>-79.216917</td>\n    </tr>\n    <tr>\n      <th>4</th>\n      <td>M1H</td>\n      <td>43.773136</td>\n      <td>-79.239476</td>\n    </tr>\n    <tr>\n      <th>5</th>\n      <td>M1J</td>\n      <td>43.744734</td>\n      <td>-79.239476</td>\n    </tr>\n    <tr>\n      <th>6</th>\n      <td>M1K</td>\n      <td>43.727929</td>\n      <td>-79.262029</td>\n    </tr>\n    <tr>\n      <th>7</th>\n      <td>M1L</td>\n      <td>43.711112</td>\n      <td>-79.284577</td>\n    </tr>\n    <tr>\n      <th>8</th>\n      <td>M1M</td>\n      <td>43.716316</td>\n      <td>-79.239476</td>\n    </tr>\n    <tr>\n      <th>9</th>\n      <td>M1N</td>\n      <td>43.692657</td>\n      <td>-79.264848</td>\n    </tr>\n  </tbody>\n</table>\n</div>"
                    },
                    "metadata": {}
                }
            ]
        },
        {
            "metadata": {},
            "cell_type": "code",
            "source": "print(list(df))\nprint(list(geo_data))\n\nfull_table = df.set_index('Postcode').join(geo_data.set_index('Postal Code'))\nfull_table = full_table.sample(frac=1).reset_index(drop=True)\nfull_table.head(20)",
            "execution_count": 14,
            "outputs": [
                {
                    "output_type": "stream",
                    "text": "['Postcode', 'Borough', 'Neighbourhood\\n']\n['Postal Code', 'Latitude', 'Longitude']\n",
                    "name": "stdout"
                },
                {
                    "output_type": "execute_result",
                    "execution_count": 14,
                    "data": {
                        "text/plain": "             Borough                                    Neighbourhood\\n  \\\n0         North York                  Northwood Park , York University    \n1   Downtown Toronto                        Adelaide , King , Richmond    \n2    Central Toronto                                     Lawrence Park    \n3       East Toronto                                       The Beaches    \n4         North York                 Lawrence Heights , Lawrence Manor    \n5               York  Del Ray , Keelesdale , Mount Dennis , Silverth...   \n6         North York                                   Don Mills North    \n7         North York                          Newtonbrook , Willowdale    \n8   Downtown Toronto                   Stn A PO Boxes 25 The Esplanade    \n9        Scarborough                                   Rouge , Malvern    \n10              York                               Caledonia-Fairbanks    \n11   Central Toronto             The Annex , North Midtown , Yorkville    \n12        North York                         Silver Hills , York Mills    \n13        North York                                   Willowdale West    \n14  Downtown Toronto           First Canadian Place , Underground city    \n15   Central Toronto              Forest Hill North , Forest Hill West    \n16      East Toronto                     The Danforth West , Riverdale    \n17      East Toronto                                   Studio District    \n18         Etobicoke  Kingsway Park South West , Mimico NW , The Que...   \n19      East Toronto                   The Beaches West , India Bazaar    \n\n     Latitude  Longitude  \n0   43.767980 -79.487262  \n1   43.650571 -79.384568  \n2   43.728020 -79.388790  \n3   43.676357 -79.293031  \n4   43.718518 -79.464763  \n5   43.691116 -79.476013  \n6   43.745906 -79.352188  \n7   43.789053 -79.408493  \n8   43.646435 -79.374846  \n9   43.806686 -79.194353  \n10  43.689026 -79.453512  \n11  43.672710 -79.405678  \n12  43.757490 -79.374714  \n13  43.782736 -79.442259  \n14  43.648429 -79.382280  \n15  43.696948 -79.411307  \n16  43.679557 -79.352188  \n17  43.659526 -79.340923  \n18  43.628841 -79.520999  \n19  43.668999 -79.315572  ",
                        "text/html": "<div>\n<style scoped>\n    .dataframe tbody tr th:only-of-type {\n        vertical-align: middle;\n    }\n\n    .dataframe tbody tr th {\n        vertical-align: top;\n    }\n\n    .dataframe thead th {\n        text-align: right;\n    }\n</style>\n<table border=\"1\" class=\"dataframe\">\n  <thead>\n    <tr style=\"text-align: right;\">\n      <th></th>\n      <th>Borough</th>\n      <th>Neighbourhood</th>\n      <th>Latitude</th>\n      <th>Longitude</th>\n    </tr>\n  </thead>\n  <tbody>\n    <tr>\n      <th>0</th>\n      <td>North York</td>\n      <td>Northwood Park , York University</td>\n      <td>43.767980</td>\n      <td>-79.487262</td>\n    </tr>\n    <tr>\n      <th>1</th>\n      <td>Downtown Toronto</td>\n      <td>Adelaide , King , Richmond</td>\n      <td>43.650571</td>\n      <td>-79.384568</td>\n    </tr>\n    <tr>\n      <th>2</th>\n      <td>Central Toronto</td>\n      <td>Lawrence Park</td>\n      <td>43.728020</td>\n      <td>-79.388790</td>\n    </tr>\n    <tr>\n      <th>3</th>\n      <td>East Toronto</td>\n      <td>The Beaches</td>\n      <td>43.676357</td>\n      <td>-79.293031</td>\n    </tr>\n    <tr>\n      <th>4</th>\n      <td>North York</td>\n      <td>Lawrence Heights , Lawrence Manor</td>\n      <td>43.718518</td>\n      <td>-79.464763</td>\n    </tr>\n    <tr>\n      <th>5</th>\n      <td>York</td>\n      <td>Del Ray , Keelesdale , Mount Dennis , Silverth...</td>\n      <td>43.691116</td>\n      <td>-79.476013</td>\n    </tr>\n    <tr>\n      <th>6</th>\n      <td>North York</td>\n      <td>Don Mills North</td>\n      <td>43.745906</td>\n      <td>-79.352188</td>\n    </tr>\n    <tr>\n      <th>7</th>\n      <td>North York</td>\n      <td>Newtonbrook , Willowdale</td>\n      <td>43.789053</td>\n      <td>-79.408493</td>\n    </tr>\n    <tr>\n      <th>8</th>\n      <td>Downtown Toronto</td>\n      <td>Stn A PO Boxes 25 The Esplanade</td>\n      <td>43.646435</td>\n      <td>-79.374846</td>\n    </tr>\n    <tr>\n      <th>9</th>\n      <td>Scarborough</td>\n      <td>Rouge , Malvern</td>\n      <td>43.806686</td>\n      <td>-79.194353</td>\n    </tr>\n    <tr>\n      <th>10</th>\n      <td>York</td>\n      <td>Caledonia-Fairbanks</td>\n      <td>43.689026</td>\n      <td>-79.453512</td>\n    </tr>\n    <tr>\n      <th>11</th>\n      <td>Central Toronto</td>\n      <td>The Annex , North Midtown , Yorkville</td>\n      <td>43.672710</td>\n      <td>-79.405678</td>\n    </tr>\n    <tr>\n      <th>12</th>\n      <td>North York</td>\n      <td>Silver Hills , York Mills</td>\n      <td>43.757490</td>\n      <td>-79.374714</td>\n    </tr>\n    <tr>\n      <th>13</th>\n      <td>North York</td>\n      <td>Willowdale West</td>\n      <td>43.782736</td>\n      <td>-79.442259</td>\n    </tr>\n    <tr>\n      <th>14</th>\n      <td>Downtown Toronto</td>\n      <td>First Canadian Place , Underground city</td>\n      <td>43.648429</td>\n      <td>-79.382280</td>\n    </tr>\n    <tr>\n      <th>15</th>\n      <td>Central Toronto</td>\n      <td>Forest Hill North , Forest Hill West</td>\n      <td>43.696948</td>\n      <td>-79.411307</td>\n    </tr>\n    <tr>\n      <th>16</th>\n      <td>East Toronto</td>\n      <td>The Danforth West , Riverdale</td>\n      <td>43.679557</td>\n      <td>-79.352188</td>\n    </tr>\n    <tr>\n      <th>17</th>\n      <td>East Toronto</td>\n      <td>Studio District</td>\n      <td>43.659526</td>\n      <td>-79.340923</td>\n    </tr>\n    <tr>\n      <th>18</th>\n      <td>Etobicoke</td>\n      <td>Kingsway Park South West , Mimico NW , The Que...</td>\n      <td>43.628841</td>\n      <td>-79.520999</td>\n    </tr>\n    <tr>\n      <th>19</th>\n      <td>East Toronto</td>\n      <td>The Beaches West , India Bazaar</td>\n      <td>43.668999</td>\n      <td>-79.315572</td>\n    </tr>\n  </tbody>\n</table>\n</div>"
                    },
                    "metadata": {}
                }
            ]
        },
        {
            "metadata": {},
            "cell_type": "markdown",
            "source": "# END OF PART 2 OF THE ASSIGNMENT"
        },
        {
            "metadata": {},
            "cell_type": "code",
            "source": "",
            "execution_count": null,
            "outputs": []
        },
        {
            "metadata": {},
            "cell_type": "code",
            "source": "",
            "execution_count": null,
            "outputs": []
        }
    ],
    "metadata": {
        "kernelspec": {
            "name": "python3",
            "display_name": "Python 3.6",
            "language": "python"
        },
        "language_info": {
            "name": "python",
            "version": "3.6.8",
            "mimetype": "text/x-python",
            "codemirror_mode": {
                "name": "ipython",
                "version": 3
            },
            "pygments_lexer": "ipython3",
            "nbconvert_exporter": "python",
            "file_extension": ".py"
        }
    },
    "nbformat": 4,
    "nbformat_minor": 1
}